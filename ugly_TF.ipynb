{
 "cells": [
  {
   "cell_type": "code",
   "execution_count": 1,
   "id": "9eec1a18",
   "metadata": {},
   "outputs": [],
   "source": [
    "import tensorflow as tf"
   ]
  },
  {
   "cell_type": "code",
   "execution_count": 2,
   "id": "fb233c43",
   "metadata": {},
   "outputs": [],
   "source": [
    "#print(tf.__version__)"
   ]
  },
  {
   "cell_type": "code",
   "execution_count": 3,
   "id": "9aab3a28",
   "metadata": {},
   "outputs": [],
   "source": [
    "import numpy as np\n",
    "import matplotlib.pyplot as plt"
   ]
  },
  {
   "cell_type": "code",
   "execution_count": 5,
   "id": "6cb963ae",
   "metadata": {},
   "outputs": [],
   "source": [
    "observations = 100000\n",
    "xs = np.random.uniform(low=-10, high=10, size = (observations,1))\n",
    "zs = np.random.uniform(-10, 10, (observations,1))\n",
    "generated_inputs = np.column_stack((xs,zs))\n",
    "noise = np.random.uniform(-1,1, (observations,1))\n",
    "generated_targets = 2*xs + 3*zs - 5 + noise\n",
    "np.savez('TF_intro', inputs = generated_inputs, targets = generated_targets)"
   ]
  },
  {
   "cell_type": "code",
   "execution_count": 6,
   "id": "c327c6a2",
   "metadata": {},
   "outputs": [],
   "source": [
    "training_data = np.load('TF_intro.npz')"
   ]
  },
  {
   "cell_type": "code",
   "execution_count": 7,
   "id": "19c6e2fb",
   "metadata": {},
   "outputs": [],
   "source": [
    "#xs and zs \n",
    "input_size = 2\n",
    "output_size = 1"
   ]
  },
  {
   "cell_type": "code",
   "execution_count": 8,
   "id": "966f2e93",
   "metadata": {},
   "outputs": [],
   "source": [
    "model = tf.keras.Sequential([\n",
    "                            tf.keras.layers.Dense(output_size,\n",
    "                                                  kernel_initializer=tf.random_uniform_initializer(minval=-0.1, maxval=0.1),\n",
    "                                                  bias_initializer=tf.random_uniform_initializer(minval=-0.1, maxval=0.1)\n",
    "                                                 )\n",
    "                            ])"
   ]
  },
  {
   "cell_type": "code",
   "execution_count": 9,
   "id": "95ff3537",
   "metadata": {},
   "outputs": [],
   "source": [
    "custom_optimizer = tf.keras.optimizers.SGD(learning_rate=0.02)"
   ]
  },
  {
   "cell_type": "code",
   "execution_count": null,
   "id": "8d0ebf3b",
   "metadata": {},
   "outputs": [
    {
     "name": "stdout",
     "output_type": "stream",
     "text": [
      "Epoch 1/100\n",
      "3125/3125 - 1s - 160us/step - loss: 0.6135\n",
      "Epoch 2/100\n",
      "3125/3125 - 0s - 138us/step - loss: 0.3773\n",
      "Epoch 3/100\n",
      "3125/3125 - 0s - 137us/step - loss: 0.3791\n",
      "Epoch 4/100\n",
      "3125/3125 - 0s - 138us/step - loss: 0.3780\n",
      "Epoch 5/100\n",
      "3125/3125 - 0s - 139us/step - loss: 0.3792\n",
      "Epoch 6/100\n",
      "3125/3125 - 0s - 132us/step - loss: 0.3793\n",
      "Epoch 7/100\n",
      "3125/3125 - 0s - 136us/step - loss: 0.3789\n",
      "Epoch 8/100\n",
      "3125/3125 - 0s - 138us/step - loss: 0.3789\n",
      "Epoch 9/100\n",
      "3125/3125 - 0s - 139us/step - loss: 0.3795\n",
      "Epoch 10/100\n",
      "3125/3125 - 0s - 138us/step - loss: 0.3813\n",
      "Epoch 11/100\n",
      "3125/3125 - 0s - 138us/step - loss: 0.3786\n",
      "Epoch 12/100\n",
      "3125/3125 - 0s - 139us/step - loss: 0.3818\n",
      "Epoch 13/100\n",
      "3125/3125 - 0s - 138us/step - loss: 0.3796\n",
      "Epoch 14/100\n",
      "3125/3125 - 0s - 139us/step - loss: 0.3790\n",
      "Epoch 15/100\n",
      "3125/3125 - 0s - 138us/step - loss: 0.3795\n",
      "Epoch 16/100\n",
      "3125/3125 - 0s - 139us/step - loss: 0.3786\n",
      "Epoch 17/100\n",
      "3125/3125 - 0s - 139us/step - loss: 0.3801\n",
      "Epoch 18/100\n",
      "3125/3125 - 0s - 138us/step - loss: 0.3786\n",
      "Epoch 19/100\n",
      "3125/3125 - 0s - 138us/step - loss: 0.3839\n",
      "Epoch 20/100\n",
      "3125/3125 - 0s - 138us/step - loss: 0.3794\n",
      "Epoch 21/100\n",
      "3125/3125 - 0s - 139us/step - loss: 0.3820\n",
      "Epoch 22/100\n",
      "3125/3125 - 0s - 140us/step - loss: 0.3802\n",
      "Epoch 23/100\n",
      "3125/3125 - 0s - 137us/step - loss: 0.3792\n",
      "Epoch 24/100\n",
      "3125/3125 - 0s - 137us/step - loss: 0.3805\n",
      "Epoch 25/100\n",
      "3125/3125 - 0s - 137us/step - loss: 0.3817\n",
      "Epoch 26/100\n",
      "3125/3125 - 0s - 138us/step - loss: 0.3797\n",
      "Epoch 27/100\n",
      "3125/3125 - 0s - 141us/step - loss: 0.3797\n",
      "Epoch 28/100\n",
      "3125/3125 - 0s - 139us/step - loss: 0.3816\n",
      "Epoch 29/100\n",
      "3125/3125 - 0s - 138us/step - loss: 0.3810\n",
      "Epoch 30/100\n",
      "3125/3125 - 0s - 138us/step - loss: 0.3818\n",
      "Epoch 31/100\n",
      "3125/3125 - 1s - 198us/step - loss: 0.3795\n",
      "Epoch 32/100\n",
      "3125/3125 - 0s - 140us/step - loss: 0.3783\n",
      "Epoch 33/100\n",
      "3125/3125 - 0s - 139us/step - loss: 0.3790\n",
      "Epoch 34/100\n",
      "3125/3125 - 0s - 139us/step - loss: 0.3810\n",
      "Epoch 35/100\n",
      "3125/3125 - 0s - 138us/step - loss: 0.3781\n",
      "Epoch 36/100\n",
      "3125/3125 - 0s - 138us/step - loss: 0.3774\n",
      "Epoch 37/100\n",
      "3125/3125 - 0s - 143us/step - loss: 0.3822\n",
      "Epoch 38/100\n",
      "3125/3125 - 0s - 139us/step - loss: 0.3810\n",
      "Epoch 39/100\n",
      "3125/3125 - 0s - 139us/step - loss: 0.3785\n",
      "Epoch 40/100\n",
      "3125/3125 - 0s - 138us/step - loss: 0.3830\n",
      "Epoch 41/100\n",
      "3125/3125 - 0s - 138us/step - loss: 0.3827\n",
      "Epoch 42/100\n",
      "3125/3125 - 0s - 137us/step - loss: 0.3799\n",
      "Epoch 43/100\n",
      "3125/3125 - 0s - 132us/step - loss: 0.3807\n",
      "Epoch 44/100\n",
      "3125/3125 - 0s - 139us/step - loss: 0.3797\n",
      "Epoch 45/100\n",
      "3125/3125 - 0s - 139us/step - loss: 0.3771\n",
      "Epoch 46/100\n",
      "3125/3125 - 0s - 139us/step - loss: 0.3776\n",
      "Epoch 47/100\n",
      "3125/3125 - 0s - 138us/step - loss: 0.3804\n",
      "Epoch 48/100\n",
      "3125/3125 - 0s - 138us/step - loss: 0.3764\n",
      "Epoch 49/100\n",
      "3125/3125 - 0s - 139us/step - loss: 0.3784\n",
      "Epoch 50/100\n",
      "3125/3125 - 0s - 139us/step - loss: 0.3789\n",
      "Epoch 51/100\n",
      "3125/3125 - 0s - 139us/step - loss: 0.3833\n",
      "Epoch 52/100\n",
      "3125/3125 - 0s - 138us/step - loss: 0.3801\n",
      "Epoch 53/100\n",
      "3125/3125 - 0s - 139us/step - loss: 0.3803\n",
      "Epoch 54/100\n",
      "3125/3125 - 0s - 139us/step - loss: 0.3785\n",
      "Epoch 55/100\n",
      "3125/3125 - 0s - 139us/step - loss: 0.3785\n",
      "Epoch 56/100\n",
      "3125/3125 - 0s - 139us/step - loss: 0.3785\n",
      "Epoch 57/100\n",
      "3125/3125 - 0s - 138us/step - loss: 0.3799\n",
      "Epoch 58/100\n",
      "3125/3125 - 0s - 139us/step - loss: 0.3797\n",
      "Epoch 59/100\n",
      "3125/3125 - 0s - 138us/step - loss: 0.3786\n",
      "Epoch 60/100\n",
      "3125/3125 - 0s - 137us/step - loss: 0.3789\n",
      "Epoch 61/100\n",
      "3125/3125 - 0s - 139us/step - loss: 0.3825\n",
      "Epoch 62/100\n",
      "3125/3125 - 0s - 137us/step - loss: 0.3786\n",
      "Epoch 63/100\n",
      "3125/3125 - 0s - 139us/step - loss: 0.3781\n",
      "Epoch 64/100\n",
      "3125/3125 - 0s - 138us/step - loss: 0.3799\n",
      "Epoch 65/100\n",
      "3125/3125 - 0s - 139us/step - loss: 0.3802\n",
      "Epoch 66/100\n",
      "3125/3125 - 0s - 138us/step - loss: 0.3765\n",
      "Epoch 67/100\n",
      "3125/3125 - 0s - 137us/step - loss: 0.3805\n",
      "Epoch 68/100\n",
      "3125/3125 - 0s - 139us/step - loss: 0.3807\n",
      "Epoch 69/100\n",
      "3125/3125 - 0s - 137us/step - loss: 0.3793\n",
      "Epoch 70/100\n",
      "3125/3125 - 0s - 140us/step - loss: 0.3800\n",
      "Epoch 71/100\n",
      "3125/3125 - 0s - 138us/step - loss: 0.3817\n",
      "Epoch 72/100\n",
      "3125/3125 - 0s - 144us/step - loss: 0.3805\n",
      "Epoch 73/100\n",
      "3125/3125 - 0s - 138us/step - loss: 0.3814\n",
      "Epoch 74/100\n",
      "3125/3125 - 0s - 138us/step - loss: 0.3831\n",
      "Epoch 75/100\n",
      "3125/3125 - 0s - 138us/step - loss: 0.3842\n",
      "Epoch 76/100\n",
      "3125/3125 - 0s - 139us/step - loss: 0.3779\n",
      "Epoch 77/100\n",
      "3125/3125 - 0s - 138us/step - loss: 0.3794\n",
      "Epoch 78/100\n",
      "3125/3125 - 0s - 139us/step - loss: 0.3800\n",
      "Epoch 79/100\n",
      "3125/3125 - 0s - 138us/step - loss: 0.3800\n",
      "Epoch 80/100\n",
      "3125/3125 - 0s - 133us/step - loss: 0.3808\n",
      "Epoch 81/100\n",
      "3125/3125 - 0s - 139us/step - loss: 0.3824\n",
      "Epoch 82/100\n",
      "3125/3125 - 0s - 139us/step - loss: 0.3790\n",
      "Epoch 83/100\n",
      "3125/3125 - 0s - 139us/step - loss: 0.3808\n",
      "Epoch 84/100\n",
      "3125/3125 - 0s - 139us/step - loss: 0.3802\n",
      "Epoch 85/100\n",
      "3125/3125 - 0s - 139us/step - loss: 0.3816\n",
      "Epoch 86/100\n",
      "3125/3125 - 0s - 139us/step - loss: 0.3787\n",
      "Epoch 87/100\n",
      "3125/3125 - 0s - 138us/step - loss: 0.3813\n",
      "Epoch 88/100\n",
      "3125/3125 - 0s - 139us/step - loss: 0.3782\n",
      "Epoch 89/100\n",
      "3125/3125 - 0s - 139us/step - loss: 0.3796\n",
      "Epoch 90/100\n",
      "3125/3125 - 0s - 138us/step - loss: 0.3815\n",
      "Epoch 91/100\n",
      "3125/3125 - 0s - 139us/step - loss: 0.3759\n",
      "Epoch 92/100\n",
      "3125/3125 - 0s - 139us/step - loss: 0.3801\n",
      "Epoch 93/100\n",
      "3125/3125 - 0s - 138us/step - loss: 0.3811\n",
      "Epoch 94/100\n",
      "3125/3125 - 0s - 138us/step - loss: 0.3829\n",
      "Epoch 95/100\n",
      "3125/3125 - 0s - 138us/step - loss: 0.3803\n",
      "Epoch 96/100\n",
      "3125/3125 - 0s - 141us/step - loss: 0.3793\n",
      "Epoch 97/100\n"
     ]
    }
   ],
   "source": [
    "model.compile(optimizer=custom_optimizer, loss='mean_squared_error')\n",
    "#model.compile(optimizer = custom_optimizer, loss = 'huber_loss')\n",
    "model.fit(training_data['inputs'], training_data['targets'], epochs=100, verbose=2)"
   ]
  },
  {
   "cell_type": "markdown",
   "id": "f3996334",
   "metadata": {},
   "source": [
    "### extract weight and bias"
   ]
  },
  {
   "cell_type": "code",
   "execution_count": null,
   "id": "8494e891",
   "metadata": {},
   "outputs": [],
   "source": [
    "model.layers[0].get_weights()"
   ]
  },
  {
   "cell_type": "code",
   "execution_count": null,
   "id": "204a83c3",
   "metadata": {},
   "outputs": [],
   "source": [
    "weights = model.layers[0].get_weights()[0]"
   ]
  },
  {
   "cell_type": "code",
   "execution_count": null,
   "id": "ca61e706",
   "metadata": {},
   "outputs": [],
   "source": [
    "weights"
   ]
  },
  {
   "cell_type": "code",
   "execution_count": null,
   "id": "caee6ef9",
   "metadata": {},
   "outputs": [],
   "source": [
    "bias = model.layers[0].get_weights()[1]"
   ]
  },
  {
   "cell_type": "code",
   "execution_count": null,
   "id": "5f8a8f29",
   "metadata": {},
   "outputs": [],
   "source": [
    "bias"
   ]
  },
  {
   "cell_type": "markdown",
   "id": "0fb21979",
   "metadata": {},
   "source": [
    "### extract the output(make predictions)"
   ]
  },
  {
   "cell_type": "code",
   "execution_count": null,
   "id": "29355fc7",
   "metadata": {},
   "outputs": [],
   "source": [
    "model.predict_on_batch(training_data['inputs']).round(1)"
   ]
  },
  {
   "cell_type": "markdown",
   "id": "4ea807a2",
   "metadata": {},
   "source": [
    "### ploting the data"
   ]
  },
  {
   "cell_type": "code",
   "execution_count": null,
   "id": "5a1e5078",
   "metadata": {},
   "outputs": [],
   "source": [
    "plt.plot(np.squeeze(model.predict_on_batch(training_data['inputs'])), np.squeeze(training_data['targets']))\n",
    "plt.xlabel('output')\n",
    "plt.ylabel('target')\n",
    "plt.show()"
   ]
  }
 ],
 "metadata": {
  "kernelspec": {
   "display_name": "Python [conda env:py3-TF2.0]",
   "language": "python",
   "name": "conda-env-py3-TF2.0-py"
  },
  "language_info": {
   "codemirror_mode": {
    "name": "ipython",
    "version": 3
   },
   "file_extension": ".py",
   "mimetype": "text/x-python",
   "name": "python",
   "nbconvert_exporter": "python",
   "pygments_lexer": "ipython3",
   "version": "3.11.5"
  }
 },
 "nbformat": 4,
 "nbformat_minor": 5
}
